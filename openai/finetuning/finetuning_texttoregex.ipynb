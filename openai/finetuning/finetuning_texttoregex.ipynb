{
 "cells": [
  {
   "cell_type": "markdown",
   "id": "39367e08",
   "metadata": {},
   "source": [
    "# Fine-tuning\n",
    "\n",
    "Convert plain text to regex using OpenAI fine-tuning."
   ]
  },
  {
   "cell_type": "markdown",
   "id": "128eb2ce",
   "metadata": {},
   "source": [
    "# Installation\n",
    "\n",
    "Install the packages required and set up API key."
   ]
  },
  {
   "cell_type": "code",
   "execution_count": 31,
   "id": "431c7664",
   "metadata": {},
   "outputs": [],
   "source": [
    "import pandas as pd\n",
    "import openai\n",
    "import os\n",
    "\n",
    "os.environ[\"OPENAI_API_KEY\"] = \"thisisasecretapikey\""
   ]
  },
  {
   "cell_type": "markdown",
   "id": "8c1cd4da",
   "metadata": {},
   "source": [
    "# Data Preparation\n",
    "\n",
    "The dataset must be in JSONL format, where each line is a prompt-completion pair corresponding to a training example. First, transform the dataset into a pandas dataframe, with a column for prompt (text) and completion (regex). Second, convert the pandas dataframe into JSONL format.\n",
    "\n",
    "*The more training examples you have, the better. We recommend having at least a couple hundred examples. In general, we've found that each doubling of the dataset size leads to a linear increase in model quality.*"
   ]
  },
  {
   "cell_type": "code",
   "execution_count": 32,
   "id": "afc38821",
   "metadata": {
    "scrolled": true
   },
   "outputs": [
    {
     "data": {
      "text/html": [
       "<div>\n",
       "<style scoped>\n",
       "    .dataframe tbody tr th:only-of-type {\n",
       "        vertical-align: middle;\n",
       "    }\n",
       "\n",
       "    .dataframe tbody tr th {\n",
       "        vertical-align: top;\n",
       "    }\n",
       "\n",
       "    .dataframe thead th {\n",
       "        text-align: right;\n",
       "    }\n",
       "</style>\n",
       "<table border=\"1\" class=\"dataframe\">\n",
       "  <thead>\n",
       "    <tr style=\"text-align: right;\">\n",
       "      <th></th>\n",
       "      <th>owner_outlet_id</th>\n",
       "      <th>name</th>\n",
       "      <th>field</th>\n",
       "      <th>regex</th>\n",
       "      <th>prompt</th>\n",
       "      <th>completion</th>\n",
       "    </tr>\n",
       "  </thead>\n",
       "  <tbody>\n",
       "    <tr>\n",
       "      <th>0</th>\n",
       "      <td>670</td>\n",
       "      <td>Lucca Vudor @ Suntec</td>\n",
       "      <td>total</td>\n",
       "      <td>Total\\s*Amount\\s*\\D?\\s*([\\d,]*\\.\\d{2})</td>\n",
       "      <td>Total Amount $79.90</td>\n",
       "      <td>Total\\s*Amount\\s*\\D?\\s*([\\d,]*\\.\\d{2})</td>\n",
       "    </tr>\n",
       "    <tr>\n",
       "      <th>1</th>\n",
       "      <td>417</td>\n",
       "      <td>Shan Cheng Midview City</td>\n",
       "      <td>total</td>\n",
       "      <td>Grand\\s*\\Total\\:\\s*\\$(\\d*[\\.\\,]*\\d{1,2})</td>\n",
       "      <td>Grand Total: $6.85</td>\n",
       "      <td>Grand\\s*\\Total\\:\\s*\\$(\\d*[\\.\\,]*\\d{1,2})</td>\n",
       "    </tr>\n",
       "    <tr>\n",
       "      <th>2</th>\n",
       "      <td>447</td>\n",
       "      <td>So Pho @ Suntec</td>\n",
       "      <td>total</td>\n",
       "      <td>\\sTOTAL\\s*\\$([\\d,]+\\.\\d{2})</td>\n",
       "      <td>TOTAL       $46.55</td>\n",
       "      <td>\\sTOTAL\\s*\\$([\\d,]+\\.\\d{2})</td>\n",
       "    </tr>\n",
       "    <tr>\n",
       "      <th>3</th>\n",
       "      <td>50</td>\n",
       "      <td>Heng's Mini Mart 567</td>\n",
       "      <td>total</td>\n",
       "      <td>(?:Total\\s*Amount|Nett\\s*Total)\\s*\\:?\\s*([-\\d,...</td>\n",
       "      <td>Total Amount: 13.70</td>\n",
       "      <td>(?:Total\\s*Amount|Nett\\s*Total)\\s*\\:?\\s*([-\\d,...</td>\n",
       "    </tr>\n",
       "    <tr>\n",
       "      <th>4</th>\n",
       "      <td>178</td>\n",
       "      <td>Restoran Kerisek</td>\n",
       "      <td>total</td>\n",
       "      <td>\\bTOTAL RM(?:[B√©])?([\\d,]+\\.\\d{2})</td>\n",
       "      <td>TOTAL RM16.00</td>\n",
       "      <td>\\bTOTAL RM(?:[B√©])?([\\d,]+\\.\\d{2})</td>\n",
       "    </tr>\n",
       "  </tbody>\n",
       "</table>\n",
       "</div>"
      ],
      "text/plain": [
       "   owner_outlet_id                     name  field  \\\n",
       "0              670     Lucca Vudor @ Suntec  total   \n",
       "1              417  Shan Cheng Midview City  total   \n",
       "2              447          So Pho @ Suntec  total   \n",
       "3               50     Heng's Mini Mart 567  total   \n",
       "4              178         Restoran Kerisek  total   \n",
       "\n",
       "                                               regex                prompt  \\\n",
       "0             Total\\s*Amount\\s*\\D?\\s*([\\d,]*\\.\\d{2})   Total Amount $79.90   \n",
       "1           Grand\\s*\\Total\\:\\s*\\$(\\d*[\\.\\,]*\\d{1,2})    Grand Total: $6.85   \n",
       "2                        \\sTOTAL\\s*\\$([\\d,]+\\.\\d{2})    TOTAL       $46.55   \n",
       "3  (?:Total\\s*Amount|Nett\\s*Total)\\s*\\:?\\s*([-\\d,...   Total Amount: 13.70   \n",
       "4                \\bTOTAL RM(?:[B√©])?([\\d,]+\\.\\d{2})         TOTAL RM16.00   \n",
       "\n",
       "                                          completion  \n",
       "0             Total\\s*Amount\\s*\\D?\\s*([\\d,]*\\.\\d{2})  \n",
       "1           Grand\\s*\\Total\\:\\s*\\$(\\d*[\\.\\,]*\\d{1,2})  \n",
       "2                        \\sTOTAL\\s*\\$([\\d,]+\\.\\d{2})  \n",
       "3  (?:Total\\s*Amount|Nett\\s*Total)\\s*\\:?\\s*([-\\d,...  \n",
       "4                \\bTOTAL RM(?:[B√©])?([\\d,]+\\.\\d{2})  "
      ]
     },
     "execution_count": 32,
     "metadata": {},
     "output_type": "execute_result"
    }
   ],
   "source": [
    "# Read the excel file\n",
    "text_regex_file = pd.read_excel('text_regex8.xlsx', header=0)\n",
    "text_regex_file.head()"
   ]
  },
  {
   "cell_type": "code",
   "execution_count": 33,
   "id": "bb2fe201",
   "metadata": {},
   "outputs": [
    {
     "data": {
      "text/html": [
       "<div>\n",
       "<style scoped>\n",
       "    .dataframe tbody tr th:only-of-type {\n",
       "        vertical-align: middle;\n",
       "    }\n",
       "\n",
       "    .dataframe tbody tr th {\n",
       "        vertical-align: top;\n",
       "    }\n",
       "\n",
       "    .dataframe thead th {\n",
       "        text-align: right;\n",
       "    }\n",
       "</style>\n",
       "<table border=\"1\" class=\"dataframe\">\n",
       "  <thead>\n",
       "    <tr style=\"text-align: right;\">\n",
       "      <th></th>\n",
       "      <th>prompt</th>\n",
       "      <th>completion</th>\n",
       "    </tr>\n",
       "  </thead>\n",
       "  <tbody>\n",
       "    <tr>\n",
       "      <th>0</th>\n",
       "      <td>Total Amount $79.90</td>\n",
       "      <td>Total\\s*Amount\\s*\\D?\\s*([\\d,]*\\.\\d{2})</td>\n",
       "    </tr>\n",
       "    <tr>\n",
       "      <th>1</th>\n",
       "      <td>Grand Total: $6.85</td>\n",
       "      <td>Grand\\s*\\Total\\:\\s*\\$(\\d*[\\.\\,]*\\d{1,2})</td>\n",
       "    </tr>\n",
       "    <tr>\n",
       "      <th>2</th>\n",
       "      <td>TOTAL       $46.55</td>\n",
       "      <td>\\sTOTAL\\s*\\$([\\d,]+\\.\\d{2})</td>\n",
       "    </tr>\n",
       "    <tr>\n",
       "      <th>3</th>\n",
       "      <td>Total Amount: 13.70</td>\n",
       "      <td>(?:Total\\s*Amount|Nett\\s*Total)\\s*\\:?\\s*([-\\d,...</td>\n",
       "    </tr>\n",
       "    <tr>\n",
       "      <th>4</th>\n",
       "      <td>TOTAL RM16.00</td>\n",
       "      <td>\\bTOTAL RM(?:[B√©])?([\\d,]+\\.\\d{2})</td>\n",
       "    </tr>\n",
       "    <tr>\n",
       "      <th>...</th>\n",
       "      <td>...</td>\n",
       "      <td>...</td>\n",
       "    </tr>\n",
       "    <tr>\n",
       "      <th>335</th>\n",
       "      <td>Total:                       8.10</td>\n",
       "      <td>(?:aftr\\s*rounding|Total\\s*:)\\s*([\\d,]+\\.\\d{2})</td>\n",
       "    </tr>\n",
       "    <tr>\n",
       "      <th>336</th>\n",
       "      <td>Total: 9.90</td>\n",
       "      <td>Total\\:\\s*([\\d,]*\\.\\d{2})</td>\n",
       "    </tr>\n",
       "    <tr>\n",
       "      <th>337</th>\n",
       "      <td>TOTAL $30.70</td>\n",
       "      <td>\\b(?:TOTAL|Total)\\s+\\$([\\d,]*\\.\\d{2})</td>\n",
       "    </tr>\n",
       "    <tr>\n",
       "      <th>338</th>\n",
       "      <td>TOTAL:         17.00</td>\n",
       "      <td>\\s+TOTAL\\s*\\:\\s*([\\d,]*\\.\\d{2})</td>\n",
       "    </tr>\n",
       "    <tr>\n",
       "      <th>339</th>\n",
       "      <td>Total:                       3.30</td>\n",
       "      <td>(?:aftr\\s*rounding|Total\\s*:)\\s*([\\d,]+\\.\\d{2})</td>\n",
       "    </tr>\n",
       "  </tbody>\n",
       "</table>\n",
       "<p>340 rows × 2 columns</p>\n",
       "</div>"
      ],
      "text/plain": [
       "                                prompt  \\\n",
       "0                  Total Amount $79.90   \n",
       "1                   Grand Total: $6.85   \n",
       "2                   TOTAL       $46.55   \n",
       "3                  Total Amount: 13.70   \n",
       "4                        TOTAL RM16.00   \n",
       "..                                 ...   \n",
       "335  Total:                       8.10   \n",
       "336                        Total: 9.90   \n",
       "337                       TOTAL $30.70   \n",
       "338               TOTAL:         17.00   \n",
       "339  Total:                       3.30   \n",
       "\n",
       "                                            completion  \n",
       "0               Total\\s*Amount\\s*\\D?\\s*([\\d,]*\\.\\d{2})  \n",
       "1             Grand\\s*\\Total\\:\\s*\\$(\\d*[\\.\\,]*\\d{1,2})  \n",
       "2                          \\sTOTAL\\s*\\$([\\d,]+\\.\\d{2})  \n",
       "3    (?:Total\\s*Amount|Nett\\s*Total)\\s*\\:?\\s*([-\\d,...  \n",
       "4                  \\bTOTAL RM(?:[B√©])?([\\d,]+\\.\\d{2})  \n",
       "..                                                 ...  \n",
       "335    (?:aftr\\s*rounding|Total\\s*:)\\s*([\\d,]+\\.\\d{2})  \n",
       "336                          Total\\:\\s*([\\d,]*\\.\\d{2})  \n",
       "337              \\b(?:TOTAL|Total)\\s+\\$([\\d,]*\\.\\d{2})  \n",
       "338                    \\s+TOTAL\\s*\\:\\s*([\\d,]*\\.\\d{2})  \n",
       "339    (?:aftr\\s*rounding|Total\\s*:)\\s*([\\d,]+\\.\\d{2})  \n",
       "\n",
       "[340 rows x 2 columns]"
      ]
     },
     "execution_count": 33,
     "metadata": {},
     "output_type": "execute_result"
    }
   ],
   "source": [
    "# Convert the excel file into a pandas dataframe\n",
    "df = pd.DataFrame(text_regex_file, columns= ['prompt','completion'])[:340]\n",
    "df"
   ]
  },
  {
   "cell_type": "code",
   "execution_count": 34,
   "id": "02f34733",
   "metadata": {},
   "outputs": [],
   "source": [
    "# Convert the df to JSONL format \n",
    "# ‘records’ : list like [{column -> value}, … , {column -> value}]\n",
    "df.to_json(\"text_regex8.jsonl\", orient='records', lines=True)"
   ]
  },
  {
   "cell_type": "markdown",
   "id": "cced97f9",
   "metadata": {},
   "source": [
    "# Data Preparation Tool\n",
    "\n",
    "A tool which validates, gives suggestions and reformats the data before fine-tuning. This tool accepts different formats, with the only requirement that they contain a prompt and a completion column/key. It can take a CSV, TSV, XLSX, JSON or JSONL file, and it will save the output into a JSONL file ready for fine-tuning."
   ]
  },
  {
   "cell_type": "code",
   "execution_count": 35,
   "id": "673ab91b",
   "metadata": {
    "scrolled": true
   },
   "outputs": [
    {
     "name": "stdout",
     "output_type": "stream",
     "text": [
      "Requirement already satisfied: openai in /Users/jiaxintan/opt/anaconda3/lib/python3.8/site-packages (0.10.2)\n",
      "Requirement already satisfied: pandas>=1.2.3 in /Users/jiaxintan/opt/anaconda3/lib/python3.8/site-packages (from openai) (1.2.4)\n",
      "Requirement already satisfied: pandas-stubs>=1.1.0.11 in /Users/jiaxintan/opt/anaconda3/lib/python3.8/site-packages (from openai) (1.2.0.2)\n",
      "Requirement already satisfied: openpyxl>=3.0.7 in /Users/jiaxintan/opt/anaconda3/lib/python3.8/site-packages (from openai) (3.0.7)\n",
      "Requirement already satisfied: tqdm in /Users/jiaxintan/opt/anaconda3/lib/python3.8/site-packages (from openai) (4.59.0)\n",
      "Requirement already satisfied: requests>=2.20 in /Users/jiaxintan/opt/anaconda3/lib/python3.8/site-packages (from openai) (2.25.1)\n",
      "Requirement already satisfied: et-xmlfile in /Users/jiaxintan/opt/anaconda3/lib/python3.8/site-packages (from openpyxl>=3.0.7->openai) (1.0.1)\n",
      "Requirement already satisfied: python-dateutil>=2.7.3 in /Users/jiaxintan/opt/anaconda3/lib/python3.8/site-packages (from pandas>=1.2.3->openai) (2.8.1)\n",
      "Requirement already satisfied: pytz>=2017.3 in /Users/jiaxintan/opt/anaconda3/lib/python3.8/site-packages (from pandas>=1.2.3->openai) (2021.1)\n",
      "Requirement already satisfied: numpy>=1.16.5 in /Users/jiaxintan/opt/anaconda3/lib/python3.8/site-packages (from pandas>=1.2.3->openai) (1.20.1)\n",
      "Requirement already satisfied: six>=1.5 in /Users/jiaxintan/opt/anaconda3/lib/python3.8/site-packages (from python-dateutil>=2.7.3->pandas>=1.2.3->openai) (1.15.0)\n",
      "Requirement already satisfied: idna<3,>=2.5 in /Users/jiaxintan/opt/anaconda3/lib/python3.8/site-packages (from requests>=2.20->openai) (2.10)\n",
      "Requirement already satisfied: certifi>=2017.4.17 in /Users/jiaxintan/opt/anaconda3/lib/python3.8/site-packages (from requests>=2.20->openai) (2020.12.5)\n",
      "Requirement already satisfied: urllib3<1.27,>=1.21.1 in /Users/jiaxintan/opt/anaconda3/lib/python3.8/site-packages (from requests>=2.20->openai) (1.26.4)\n",
      "Requirement already satisfied: chardet<5,>=3.0.2 in /Users/jiaxintan/opt/anaconda3/lib/python3.8/site-packages (from requests>=2.20->openai) (4.0.0)\n"
     ]
    }
   ],
   "source": [
    "!pip install --upgrade openai"
   ]
  },
  {
   "cell_type": "code",
   "execution_count": 36,
   "id": "1e19d4f4",
   "metadata": {
    "scrolled": false
   },
   "outputs": [
    {
     "name": "stdout",
     "output_type": "stream",
     "text": [
      "Analyzing...\n",
      "\n",
      "- Your file contains 340 prompt-completion pairs\n",
      "- There are 5 duplicated prompt-completion pairs. These are rows: [71, 111, 135, 165, 225]\n",
      "- More than a third of your `prompt` column/key is uppercase. Uppercase prompts tends to perform worse than a mixture of case encountered in normal language. We recommend to lower case the data if that makes sense in your domain. See https://beta.openai.com/docs/guides/fine-tuning/preparing-your-dataset for more details\n",
      "- Your data does not contain a common separator at the end of your prompts. Having a separator string appended to the end of the prompt makes it clearer to the fine-tuned model where the completion should begin. See https://beta.openai.com/docs/guides/fine-tuning/preparing-your-dataset for more detail and examples. If you intend to do open-ended generation, then you should leave the prompts empty\n",
      "- Your data does not contain a common ending at the end of your completions. Having a common ending string appended to the end of the completion makes it clearer to the fine-tuned model where the completion should end. See https://beta.openai.com/docs/guides/fine-tuning/preparing-your-dataset for more detail and examples.\n",
      "- The completion should start with a whitespace character (` `). This tends to produce better results due to the tokenization we use. See https://beta.openai.com/docs/guides/fine-tuning/preparing-your-dataset for more details\n",
      "\n",
      "Based on the analysis we will perform the following actions:\n",
      "- [Recommended] Remove 5 duplicate rows [Y/n]: Y- [Recommended] Lowercase all your data in column/key `prompt` [Y/n]: Y- [Recommended] Add a suffix separator `\\n\\n###\\n\\n` to all prompts [Y/n]: Y- [Recommended] Add a suffix ending `\\n` to all completions [Y/n]: Y- [Recommended] Add a whitespace character to the beginning of the completion [Y/n]: Y\n",
      "\n",
      "Your data will be written to a new JSONL file. Proceed [Y/n]: Y\n",
      "Wrote modified file to `text_regex8_prepared.jsonl`\n",
      "Feel free to take a look!\n",
      "\n",
      "Now use that file when fine-tuning:\n",
      "> openai api fine_tunes.create -t \"text_regex8_prepared.jsonl\" --no_packing\n",
      "\n",
      "After you’ve fine-tuned a model, remember that your prompt has to end with the indicator string `\\n\\n###\\n\\n` for the model to start generating completions, rather than continuing with the prompt. Make sure to include `stop=[\"\\n\"]` so that the generated texts ends at the expected place.\n",
      "Once your model starts training, it'll approximately take 16.36 minutes to train a `curie` model, and less for `ada` and `babbage`. Queue will approximately take half an hour per job ahead of you.\n"
     ]
    }
   ],
   "source": [
    "!openai tools fine_tunes.prepare_data -f text_regex8.jsonl -q"
   ]
  },
  {
   "cell_type": "markdown",
   "id": "669dd64e",
   "metadata": {},
   "source": [
    "# Create a fine-tuned model\n",
    "\n",
    "Train and create a fine-tuned model using an engine (e.g. ada, babbage, curie, davinci (need to apply for fine-tuning) ). The model is usually successfully trained in about 10-20 minutes. The fine-tuned model name is \"curie:ft-user-orncay2mfjdpqgswmlkminvi-2021-08-24-08-25-45\" or \"ada:ft-user-orncay2mfjdpqgswmlkminvi-2021-08-25-04-18-33\". These are the 2 models that I trained & can be used to translate text to regex, more train dataset will give better performance, but also suffer higher chance to break during training or creating a model. Note: only 10 fine-tune models can be created for 1 month, but once the model has been created, it will be saved and can be used without having to train again."
   ]
  },
  {
   "cell_type": "code",
   "execution_count": 30,
   "id": "e8d3bc80",
   "metadata": {},
   "outputs": [
    {
     "name": "stdout",
     "output_type": "stream",
     "text": [
      "Upload progress: 100%|████████████████████| 36.5k/36.5k [00:00<00:00, 6.51Mit/s]\n",
      "Uploaded file from text_regex9_prepared.jsonl: file-g9CjaWCgt6R2NsJtJSxTJpQv\n",
      "[organization=user-orncay2mfjdpqgswmlkminvi] \u001b[91mError:\u001b[0m You have reached the maximum number of fine-tunes allowed for your organization for this month (10). Please contact finetuning@openai.com and tell us about your use-case if you would like this limit increased. (HTTP status code: 429)\n"
     ]
    }
   ],
   "source": [
    "!openai api fine_tunes.create -t \"text_regex8_prepared.jsonl\" -m cu"
   ]
  },
  {
   "cell_type": "markdown",
   "id": "f35cf502",
   "metadata": {},
   "source": [
    "# Use a fine-tuned model\n",
    "\n",
    "Use the fine-tuned model to translate text to regex. After the fine-tuned model has been created, we can also specify this model as a parameter to Completions API, and make requests to it using the Playground. But here, we will start making requests by passing the model name as the model parameter of a completion request."
   ]
  },
  {
   "cell_type": "code",
   "execution_count": 60,
   "id": "291e62fc",
   "metadata": {},
   "outputs": [
    {
     "name": "stdout",
     "output_type": "stream",
     "text": [
      "Total: 9.90\\n\\n###\\n\\nTotal:\\s*([\\d,]*\\.\\d{2})"
     ]
    }
   ],
   "source": [
    "!openai api completions.create -m ada:ft-user-orncay2mfjdpqgswmlkminvi-2021-08-25-04-18-33 -p \"Total: 9.90\\n\\n###\\n\\n\"\n",
    "# text_regex_model = 'curie:ft-user-orncay2mfjdpqgswmlkminvi-2021-08-24-08-25-45'\n",
    "# res = openai.Completion.create(model=text_regex_model, prompt='TOTAL              16.90' + '\\n\\n###\\n\\n', max_tokens=1, temperature=0)"
   ]
  },
  {
   "cell_type": "markdown",
   "id": "858cfdf5",
   "metadata": {},
   "source": [
    "# Conclusion\n",
    "\n",
    "- The models created work for some \"easy\" plain text, but the performance is very unstable.\n",
    "- There are different ways of writing parsing rule for the same text. This might affect the quality of training dataset.\n",
    "- Can decrease the \"Temperature\" and \"Top_P\" to decrease the randomness of the output.\n",
    "- Feed more training dataset when creating a model. \"The more training examples you have, the better. We recommend having at least a couple hundred examples. In general, we've found that each doubling of the dataset size leads to a linear increase in model quality. -- OpenAI\""
   ]
  }
 ],
 "metadata": {
  "kernelspec": {
   "display_name": "Python 3",
   "language": "python",
   "name": "python3"
  },
  "language_info": {
   "codemirror_mode": {
    "name": "ipython",
    "version": 3
   },
   "file_extension": ".py",
   "mimetype": "text/x-python",
   "name": "python",
   "nbconvert_exporter": "python",
   "pygments_lexer": "ipython3",
   "version": "3.8.8"
  }
 },
 "nbformat": 4,
 "nbformat_minor": 5
}
